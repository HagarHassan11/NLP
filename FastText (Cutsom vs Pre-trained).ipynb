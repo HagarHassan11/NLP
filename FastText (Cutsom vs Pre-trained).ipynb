{
 "cells": [
  {
   "cell_type": "code",
   "execution_count": 1,
   "id": "b9453833",
   "metadata": {
    "_cell_guid": "b1076dfc-b9ad-4769-8c92-a6c4dae69d19",
    "_uuid": "8f2839f25d086af736a60e9eeb907d3b93b6e0e5",
    "execution": {
     "iopub.execute_input": "2024-07-22T14:30:50.696829Z",
     "iopub.status.busy": "2024-07-22T14:30:50.695740Z",
     "iopub.status.idle": "2024-07-22T14:31:05.285954Z",
     "shell.execute_reply": "2024-07-22T14:31:05.285018Z"
    },
    "papermill": {
     "duration": 14.604105,
     "end_time": "2024-07-22T14:31:05.288568",
     "exception": false,
     "start_time": "2024-07-22T14:30:50.684463",
     "status": "completed"
    },
    "tags": []
   },
   "outputs": [
    {
     "name": "stdout",
     "output_type": "stream",
     "text": [
      "Collecting reportlab\r\n",
      "  Downloading reportlab-4.2.2-py3-none-any.whl.metadata (1.4 kB)\r\n",
      "Requirement already satisfied: pillow>=9.0.0 in /opt/conda/lib/python3.10/site-packages (from reportlab) (9.5.0)\r\n",
      "Collecting chardet (from reportlab)\r\n",
      "  Downloading chardet-5.2.0-py3-none-any.whl.metadata (3.4 kB)\r\n",
      "Downloading reportlab-4.2.2-py3-none-any.whl (1.9 MB)\r\n",
      "\u001b[2K   \u001b[90m━━━━━━━━━━━━━━━━━━━━━━━━━━━━━━━━━━━━━━━━\u001b[0m \u001b[32m1.9/1.9 MB\u001b[0m \u001b[31m59.0 MB/s\u001b[0m eta \u001b[36m0:00:00\u001b[0m\r\n",
      "\u001b[?25hDownloading chardet-5.2.0-py3-none-any.whl (199 kB)\r\n",
      "\u001b[2K   \u001b[90m━━━━━━━━━━━━━━━━━━━━━━━━━━━━━━━━━━━━━━━━\u001b[0m \u001b[32m199.4/199.4 kB\u001b[0m \u001b[31m14.3 MB/s\u001b[0m eta \u001b[36m0:00:00\u001b[0m\r\n",
      "\u001b[?25hInstalling collected packages: chardet, reportlab\r\n",
      "Successfully installed chardet-5.2.0 reportlab-4.2.2\r\n"
     ]
    }
   ],
   "source": [
    "! pip install reportlab"
   ]
  },
  {
   "cell_type": "markdown",
   "id": "6a8edca6",
   "metadata": {
    "papermill": {
     "duration": 0.006671,
     "end_time": "2024-07-22T14:31:05.302797",
     "exception": false,
     "start_time": "2024-07-22T14:31:05.296126",
     "status": "completed"
    },
    "tags": []
   },
   "source": [
    "# **Pre-Trained Model Installation**"
   ]
  },
  {
   "cell_type": "code",
   "execution_count": 2,
   "id": "8f403296",
   "metadata": {
    "execution": {
     "iopub.execute_input": "2024-07-22T14:31:05.317971Z",
     "iopub.status.busy": "2024-07-22T14:31:05.317647Z",
     "iopub.status.idle": "2024-07-22T14:43:07.238928Z",
     "shell.execute_reply": "2024-07-22T14:43:07.237689Z"
    },
    "papermill": {
     "duration": 721.932187,
     "end_time": "2024-07-22T14:43:07.241765",
     "exception": false,
     "start_time": "2024-07-22T14:31:05.309578",
     "status": "completed"
    },
    "tags": []
   },
   "outputs": [
    {
     "name": "stdout",
     "output_type": "stream",
     "text": [
      "--2024-07-22 14:31:06--  https://dl.fbaipublicfiles.com/fasttext/vectors-crawl/cc.en.300.bin.gz\r\n",
      "Resolving dl.fbaipublicfiles.com (dl.fbaipublicfiles.com)... 108.158.20.120, 108.158.20.111, 108.158.20.21, ...\r\n",
      "Connecting to dl.fbaipublicfiles.com (dl.fbaipublicfiles.com)|108.158.20.120|:443... connected.\r\n",
      "HTTP request sent, awaiting response... 200 OK\r\n",
      "Length: 4503593528 (4.2G) [application/octet-stream]\r\n",
      "Saving to: 'cc.en.300.bin.gz'\r\n",
      "\r\n",
      "cc.en.300.bin.gz    100%[===================>]   4.19G  4.49MB/s    in 11m 2s  \r\n",
      "\r\n",
      "2024-07-22 14:42:08 (6.49 MB/s) - 'cc.en.300.bin.gz' saved [4503593528/4503593528]\r\n",
      "\r\n"
     ]
    }
   ],
   "source": [
    "! wget https://dl.fbaipublicfiles.com/fasttext/vectors-crawl/cc.en.300.bin.gz\n",
    "! gunzip \"cc.en.300.bin.gz\""
   ]
  },
  {
   "cell_type": "code",
   "execution_count": 3,
   "id": "56a8dba7",
   "metadata": {
    "execution": {
     "iopub.execute_input": "2024-07-22T14:43:07.786369Z",
     "iopub.status.busy": "2024-07-22T14:43:07.785623Z",
     "iopub.status.idle": "2024-07-22T14:43:34.620789Z",
     "shell.execute_reply": "2024-07-22T14:43:34.619988Z"
    },
    "papermill": {
     "duration": 27.133273,
     "end_time": "2024-07-22T14:43:34.623157",
     "exception": false,
     "start_time": "2024-07-22T14:43:07.489884",
     "status": "completed"
    },
    "tags": []
   },
   "outputs": [],
   "source": [
    "import os\n",
    "import re\n",
    "import spacy\n",
    "import random\n",
    "import numpy as np \n",
    "import pandas as pd\n",
    "from nltk.corpus import stopwords\n",
    "nlp = spacy.load(\"en_core_web_sm\")\n",
    "from gensim.models.fasttext import FastText\n",
    "from gensim.models.fasttext import load_facebook_model\n",
    "from reportlab.platypus import SimpleDocTemplate, Table, TableStyle, Paragraph, Spacer\n",
    "from reportlab.lib import colors\n",
    "from reportlab.lib.pagesizes import letter\n",
    "from reportlab.lib.styles import getSampleStyleSheet\n",
    "from tabulate import tabulate\n",
    "from gensim.models import Word2Vec\n",
    "import fasttext.util\n",
    "from nltk.tokenize import word_tokenize\n",
    "from nltk.corpus import stopwords\n",
    "from nltk.stem import PorterStemmer, WordNetLemmatizer"
   ]
  },
  {
   "cell_type": "markdown",
   "id": "282d7881",
   "metadata": {
    "papermill": {
     "duration": 0.249459,
     "end_time": "2024-07-22T14:43:35.118300",
     "exception": false,
     "start_time": "2024-07-22T14:43:34.868841",
     "status": "completed"
    },
    "tags": []
   },
   "source": [
    "# **Access tips file only**"
   ]
  },
  {
   "cell_type": "code",
   "execution_count": 4,
   "id": "aa42b7b8",
   "metadata": {
    "execution": {
     "iopub.execute_input": "2024-07-22T14:43:35.617462Z",
     "iopub.status.busy": "2024-07-22T14:43:35.616826Z",
     "iopub.status.idle": "2024-07-22T14:43:47.268823Z",
     "shell.execute_reply": "2024-07-22T14:43:47.267951Z"
    },
    "papermill": {
     "duration": 11.901206,
     "end_time": "2024-07-22T14:43:47.271210",
     "exception": false,
     "start_time": "2024-07-22T14:43:35.370004",
     "status": "completed"
    },
    "tags": []
   },
   "outputs": [
    {
     "name": "stdout",
     "output_type": "stream",
     "text": [
      "Text 1: Avengers time with the ladies.\n",
      "Text 2: They have lots of good deserts and tasty cuban sandwiches\n",
      "Text 3: It's open even when you think it isn't\n",
      "Text 4: Very decent fried chicken\n",
      "Text 5: Appetizers.. platter special for lunch\n",
      "Text 6: Chili Cup + Single Cheeseburger with onion, pickle, and relish + Vanilla Coca-Cola...so far.\n",
      "Text 7: Saturday, Dec 7th 2013, ride Patco's Silver Sleigh w/ Santa & his elves on a decorated train into Center City. Trains leave from Lindenwold at 10am, 11:15am, & 12:30pm, and make all stops. Great for kids!\n",
      "Text 8: This is probably the best place in the cool Springs area to watch a game and eat\n",
      "Text 9: Tacos\n",
      "Text 10: Starbucks substitute in boring downtown Tampa. Ugh. Never again!\n",
      "Text 11: Order the Tortilla Soup\n",
      "Text 12: Very good will definitely be coming back!!\n",
      "Text 13: If the Hotlight is on you must stop in.\n",
      "Text 14: Let's go Yankees!\n",
      "Text 15: Basically same food as rally's for $5 more\n",
      "Text 16: Don't go for dinner. They close at 6. Really Yvonne L? Negative stars for a restaurant where you you didn't and never intended to eat?\n",
      "Text 17: 30 mins for take out. Right right tight\n",
      "Text 18: Got the grilled chicken entree. It was delicious but was a small portion. I like the environment here, for sure, though.\n",
      "Text 19: This is the bomb ! I love this dish. Try it you'll like it !lol\n",
      "Text 20: Helping Mona find a new phone.\n"
     ]
    }
   ],
   "source": [
    "file_path = '/kaggle/input/yelp-dataset/yelp_academic_dataset_tip.json'\n",
    "tips_df = pd.read_json(file_path, lines=True)\n",
    "text_tips_df = tips_df['text']\n",
    "for idx, text in enumerate(text_tips_df[:20]):\n",
    "    print(f\"Text {idx + 1}: {text}\")"
   ]
  },
  {
   "cell_type": "code",
   "execution_count": 5,
   "id": "364cc6fa",
   "metadata": {
    "execution": {
     "iopub.execute_input": "2024-07-22T14:43:47.768414Z",
     "iopub.status.busy": "2024-07-22T14:43:47.768011Z",
     "iopub.status.idle": "2024-07-22T14:43:47.774807Z",
     "shell.execute_reply": "2024-07-22T14:43:47.773957Z"
    },
    "papermill": {
     "duration": 0.256159,
     "end_time": "2024-07-22T14:43:47.776892",
     "exception": false,
     "start_time": "2024-07-22T14:43:47.520733",
     "status": "completed"
    },
    "tags": []
   },
   "outputs": [
    {
     "data": {
      "text/plain": [
       "(908915,)"
      ]
     },
     "execution_count": 5,
     "metadata": {},
     "output_type": "execute_result"
    }
   ],
   "source": [
    "text_tips_df.shape"
   ]
  },
  {
   "cell_type": "code",
   "execution_count": 6,
   "id": "cc5514c7",
   "metadata": {
    "execution": {
     "iopub.execute_input": "2024-07-22T14:43:48.274376Z",
     "iopub.status.busy": "2024-07-22T14:43:48.273999Z",
     "iopub.status.idle": "2024-07-22T14:43:48.290972Z",
     "shell.execute_reply": "2024-07-22T14:43:48.290188Z"
    },
    "papermill": {
     "duration": 0.267821,
     "end_time": "2024-07-22T14:43:48.292765",
     "exception": false,
     "start_time": "2024-07-22T14:43:48.024944",
     "status": "completed"
    },
    "tags": []
   },
   "outputs": [
    {
     "data": {
      "text/plain": [
       "98"
      ]
     },
     "execution_count": 6,
     "metadata": {},
     "output_type": "execute_result"
    }
   ],
   "source": [
    "corpus = text_tips_df.head(10000)\n",
    "max_length = max(len(sentence.split()) for sentence in corpus)\n",
    "max_length"
   ]
  },
  {
   "cell_type": "markdown",
   "id": "2f2a7eba",
   "metadata": {
    "papermill": {
     "duration": 0.24598,
     "end_time": "2024-07-22T14:43:48.789511",
     "exception": false,
     "start_time": "2024-07-22T14:43:48.543531",
     "status": "completed"
    },
    "tags": []
   },
   "source": [
    "# **Preprocessing**"
   ]
  },
  {
   "cell_type": "code",
   "execution_count": 7,
   "id": "00da4c72",
   "metadata": {
    "execution": {
     "iopub.execute_input": "2024-07-22T14:43:49.285608Z",
     "iopub.status.busy": "2024-07-22T14:43:49.285239Z",
     "iopub.status.idle": "2024-07-22T14:43:49.293224Z",
     "shell.execute_reply": "2024-07-22T14:43:49.292343Z"
    },
    "papermill": {
     "duration": 0.257732,
     "end_time": "2024-07-22T14:43:49.295158",
     "exception": false,
     "start_time": "2024-07-22T14:43:49.037426",
     "status": "completed"
    },
    "tags": []
   },
   "outputs": [],
   "source": [
    "def clean_text(document):\n",
    "    clean_words = []\n",
    "   # Process the text using spaCy\n",
    "    doc = nlp(document)\n",
    "    # Extract lemmatized tokens\n",
    "    lemmatized_tokens = [token.lemma_ for token in doc] #return words to their base or dictionary form, known as the lemma.\n",
    "    # Join the lemmatized tokens into a sentence\n",
    "    cleaned_doc = ' '.join(lemmatized_tokens)\n",
    "    cleaned_doc = cleaned_doc.lower()\n",
    "    # Remove links and emails\n",
    "    cleaned_doc = re.sub(r'http\\S+|www\\S+|[\\w\\.-]+@[\\w\\.-]+', '', cleaned_doc)\n",
    "    # Remove any thing except words, numbers, and space\n",
    "    cleaned_doc = re.sub(r'[^\\w\\s]', '', cleaned_doc)\n",
    "    # Remove numbers\n",
    "    cleaned_doc = re.sub(r'[0-9]', '', cleaned_doc)\n",
    "    # Remove emojis and non ascii characters\n",
    "    cleaned_doc = re.sub(r'[^\\x00-\\x7F]+', '', cleaned_doc)\n",
    "    # Remove stop words\n",
    "    stop_words = set(stopwords.words(\"english\"))\n",
    "    cleaned_doc = ' '.join([word for word in cleaned_doc.split() if word not in stop_words])\n",
    "    cleaned_doc = ' '.join([word for word in cleaned_doc.split() if (len(word) > 3)])\n",
    "    # Split sentences to words\n",
    "    clean_words.extend(cleaned_doc.split())\n",
    "    return  clean_words"
   ]
  },
  {
   "cell_type": "code",
   "execution_count": 8,
   "id": "dee42dec",
   "metadata": {
    "execution": {
     "iopub.execute_input": "2024-07-22T14:43:49.794324Z",
     "iopub.status.busy": "2024-07-22T14:43:49.793604Z",
     "iopub.status.idle": "2024-07-22T14:45:00.916360Z",
     "shell.execute_reply": "2024-07-22T14:45:00.915490Z"
    },
    "papermill": {
     "duration": 71.3732,
     "end_time": "2024-07-22T14:45:00.918645",
     "exception": false,
     "start_time": "2024-07-22T14:43:49.545445",
     "status": "completed"
    },
    "tags": []
   },
   "outputs": [],
   "source": [
    "clean_text = [clean_text(sentence) for sentence in corpus]"
   ]
  },
  {
   "cell_type": "code",
   "execution_count": 9,
   "id": "2e0a0029",
   "metadata": {
    "execution": {
     "iopub.execute_input": "2024-07-22T14:45:01.489461Z",
     "iopub.status.busy": "2024-07-22T14:45:01.488642Z",
     "iopub.status.idle": "2024-07-22T14:45:01.495550Z",
     "shell.execute_reply": "2024-07-22T14:45:01.494531Z"
    },
    "papermill": {
     "duration": 0.284366,
     "end_time": "2024-07-22T14:45:01.497474",
     "exception": false,
     "start_time": "2024-07-22T14:45:01.213108",
     "status": "completed"
    },
    "tags": []
   },
   "outputs": [
    {
     "data": {
      "text/plain": [
       "['avenger', 'time', 'lady']"
      ]
     },
     "execution_count": 9,
     "metadata": {},
     "output_type": "execute_result"
    }
   ],
   "source": [
    "clean_text[0]"
   ]
  },
  {
   "cell_type": "markdown",
   "id": "53d209de",
   "metadata": {
    "papermill": {
     "duration": 0.250871,
     "end_time": "2024-07-22T14:45:02.006423",
     "exception": false,
     "start_time": "2024-07-22T14:45:01.755552",
     "status": "completed"
    },
    "tags": []
   },
   "source": [
    "# **Customed FastText Model**"
   ]
  },
  {
   "cell_type": "code",
   "execution_count": 10,
   "id": "59aec0c3",
   "metadata": {
    "execution": {
     "iopub.execute_input": "2024-07-22T14:45:02.506491Z",
     "iopub.status.busy": "2024-07-22T14:45:02.505863Z",
     "iopub.status.idle": "2024-07-22T14:45:02.511138Z",
     "shell.execute_reply": "2024-07-22T14:45:02.510275Z"
    },
    "papermill": {
     "duration": 0.255317,
     "end_time": "2024-07-22T14:45:02.513080",
     "exception": false,
     "start_time": "2024-07-22T14:45:02.257763",
     "status": "completed"
    },
    "tags": []
   },
   "outputs": [],
   "source": [
    "def train_Fasttext(sentences,embedding_size,window_size,min_word,down_sampling,epochs,Save_model_filename):\n",
    "    fast_Text_model = FastText(sentences,\n",
    "    vector_size=embedding_size, \n",
    "    window=window_size,\n",
    "    min_count=min_word, \n",
    "    sample=down_sampling, \n",
    "    workers = 4, \n",
    "    sg=1, \n",
    "    epochs=epochs) \n",
    "\n",
    "    fast_Text_model.save(Save_model_filename) # Save fastText gensim model"
   ]
  },
  {
   "cell_type": "code",
   "execution_count": 11,
   "id": "1abbe715",
   "metadata": {
    "execution": {
     "iopub.execute_input": "2024-07-22T14:45:03.008996Z",
     "iopub.status.busy": "2024-07-22T14:45:03.008140Z",
     "iopub.status.idle": "2024-07-22T14:47:03.616484Z",
     "shell.execute_reply": "2024-07-22T14:47:03.615491Z"
    },
    "papermill": {
     "duration": 120.86015,
     "end_time": "2024-07-22T14:47:03.619229",
     "exception": false,
     "start_time": "2024-07-22T14:45:02.759079",
     "status": "completed"
    },
    "tags": []
   },
   "outputs": [],
   "source": [
    "embedding_size = 300\n",
    "window_size = 3\n",
    "min_word = 1\n",
    "down_sampling = 1e-2\n",
    "epochs=300\n",
    "\n",
    "train_Fasttext(clean_text,embedding_size,window_size,min_word,down_sampling,epochs,\"Custom_FastText\")"
   ]
  },
  {
   "cell_type": "code",
   "execution_count": 12,
   "id": "53f9acec",
   "metadata": {
    "execution": {
     "iopub.execute_input": "2024-07-22T14:47:04.158556Z",
     "iopub.status.busy": "2024-07-22T14:47:04.158179Z",
     "iopub.status.idle": "2024-07-22T14:47:05.418813Z",
     "shell.execute_reply": "2024-07-22T14:47:05.417753Z"
    },
    "papermill": {
     "duration": 1.510337,
     "end_time": "2024-07-22T14:47:05.421165",
     "exception": false,
     "start_time": "2024-07-22T14:47:03.910828",
     "status": "completed"
    },
    "tags": []
   },
   "outputs": [],
   "source": [
    "custom_model = Word2Vec.load(\"/kaggle/working/Custom_FastText\")"
   ]
  },
  {
   "cell_type": "markdown",
   "id": "9d842603",
   "metadata": {
    "papermill": {
     "duration": 0.246663,
     "end_time": "2024-07-22T14:47:05.914401",
     "exception": false,
     "start_time": "2024-07-22T14:47:05.667738",
     "status": "completed"
    },
    "tags": []
   },
   "source": [
    "# **Compare the most similar 10 words for a specific word (Custom vs Pre-trained)**"
   ]
  },
  {
   "cell_type": "code",
   "execution_count": 13,
   "id": "682f5792",
   "metadata": {
    "execution": {
     "iopub.execute_input": "2024-07-22T14:47:06.410480Z",
     "iopub.status.busy": "2024-07-22T14:47:06.409493Z",
     "iopub.status.idle": "2024-07-22T14:47:06.423184Z",
     "shell.execute_reply": "2024-07-22T14:47:06.421781Z"
    },
    "papermill": {
     "duration": 0.266626,
     "end_time": "2024-07-22T14:47:06.426319",
     "exception": false,
     "start_time": "2024-07-22T14:47:06.159693",
     "status": "completed"
    },
    "tags": []
   },
   "outputs": [
    {
     "name": "stdout",
     "output_type": "stream",
     "text": [
      "[('importantly', 0.8232631683349609), ('import', 0.7516825199127197), ('elegant', 0.5730699300765991), ('porta', 0.571188747882843), ('infant', 0.5711729526519775), ('abundant', 0.5487837195396423), ('zioski', 0.5413228273391724), ('portabello', 0.5408158898353577), ('vonnegut', 0.5390135049819946), ('attendant', 0.5304132699966431)]\n"
     ]
    }
   ],
   "source": [
    "print(custom_model.wv.most_similar(positive=[\"important\"], topn=10))"
   ]
  },
  {
   "cell_type": "code",
   "execution_count": 14,
   "id": "403697c4",
   "metadata": {
    "execution": {
     "iopub.execute_input": "2024-07-22T14:47:07.012822Z",
     "iopub.status.busy": "2024-07-22T14:47:07.012045Z",
     "iopub.status.idle": "2024-07-22T14:49:20.293946Z",
     "shell.execute_reply": "2024-07-22T14:49:20.292741Z"
    },
    "papermill": {
     "duration": 133.558165,
     "end_time": "2024-07-22T14:49:20.296712",
     "exception": false,
     "start_time": "2024-07-22T14:47:06.738547",
     "status": "completed"
    },
    "tags": []
   },
   "outputs": [],
   "source": [
    "pretrained_facebook = load_facebook_model('/kaggle/working/cc.en.300.bin')"
   ]
  },
  {
   "cell_type": "code",
   "execution_count": 15,
   "id": "96e68ed2",
   "metadata": {
    "execution": {
     "iopub.execute_input": "2024-07-22T14:49:20.793430Z",
     "iopub.status.busy": "2024-07-22T14:49:20.792964Z",
     "iopub.status.idle": "2024-07-22T14:49:21.978594Z",
     "shell.execute_reply": "2024-07-22T14:49:21.977431Z"
    },
    "papermill": {
     "duration": 1.43802,
     "end_time": "2024-07-22T14:49:21.982790",
     "exception": false,
     "start_time": "2024-07-22T14:49:20.544770",
     "status": "completed"
    },
    "tags": []
   },
   "outputs": [
    {
     "name": "stdout",
     "output_type": "stream",
     "text": [
      "[('vitally', 0.8139428496360779), ('crucial', 0.7995947599411011), ('imporant', 0.7556751370429993), ('vital', 0.7363570928573608), ('improtant', 0.6904195547103882), ('essential', 0.6811777353286743), ('imortant', 0.654327392578125), ('importnat', 0.652055561542511), ('impotant', 0.6465452909469604), ('important.What', 0.6370490193367004)]\n"
     ]
    }
   ],
   "source": [
    "print(pretrained_facebook.wv.most_similar(positive=[\"important\"], topn=10))"
   ]
  },
  {
   "cell_type": "code",
   "execution_count": 16,
   "id": "d712c3cd",
   "metadata": {
    "execution": {
     "iopub.execute_input": "2024-07-22T14:49:22.518784Z",
     "iopub.status.busy": "2024-07-22T14:49:22.517885Z",
     "iopub.status.idle": "2024-07-22T14:49:22.610221Z",
     "shell.execute_reply": "2024-07-22T14:49:22.609267Z"
    },
    "papermill": {
     "duration": 0.342282,
     "end_time": "2024-07-22T14:49:22.612583",
     "exception": false,
     "start_time": "2024-07-22T14:49:22.270301",
     "status": "completed"
    },
    "tags": []
   },
   "outputs": [],
   "source": [
    "from gensim.models import KeyedVectors\n",
    "from prettytable import PrettyTable"
   ]
  },
  {
   "cell_type": "code",
   "execution_count": 17,
   "id": "e458ec98",
   "metadata": {
    "execution": {
     "iopub.execute_input": "2024-07-22T14:49:23.158529Z",
     "iopub.status.busy": "2024-07-22T14:49:23.157635Z",
     "iopub.status.idle": "2024-07-22T14:49:23.162899Z",
     "shell.execute_reply": "2024-07-22T14:49:23.162130Z"
    },
    "papermill": {
     "duration": 0.255019,
     "end_time": "2024-07-22T14:49:23.164823",
     "exception": false,
     "start_time": "2024-07-22T14:49:22.909804",
     "status": "completed"
    },
    "tags": []
   },
   "outputs": [],
   "source": [
    "def get_similar_words(model, word, topn=10):\n",
    "    similar_words = model.wv.most_similar(positive=[word], topn=topn)\n",
    "    least_similar_words = model.wv.most_similar(negative=[word], topn=topn)\n",
    "    return similar_words, least_similar_words\n"
   ]
  },
  {
   "cell_type": "code",
   "execution_count": 18,
   "id": "8b46efe2",
   "metadata": {
    "execution": {
     "iopub.execute_input": "2024-07-22T14:49:23.658877Z",
     "iopub.status.busy": "2024-07-22T14:49:23.658167Z",
     "iopub.status.idle": "2024-07-22T14:49:23.965204Z",
     "shell.execute_reply": "2024-07-22T14:49:23.964166Z"
    },
    "papermill": {
     "duration": 0.557723,
     "end_time": "2024-07-22T14:49:23.969521",
     "exception": false,
     "start_time": "2024-07-22T14:49:23.411798",
     "status": "completed"
    },
    "tags": []
   },
   "outputs": [
    {
     "name": "stdout",
     "output_type": "stream",
     "text": [
      "Custom Model\n",
      "Word: important\n",
      "+----------------------+---------------------+\n",
      "|    Similar Words     | Least Similar Words |\n",
      "+----------------------+---------------------+\n",
      "| importantly (0.8233) |   choose (-0.0887)  |\n",
      "|   import (0.7517)    |    type (-0.0932)   |\n",
      "|   elegant (0.5731)   |   flavor (-0.0933)  |\n",
      "|    porta (0.5712)    |    full (-0.0998)   |\n",
      "|   infant (0.5712)    |   snack (-0.1144)   |\n",
      "|  abundant (0.5488)   |   office (-0.1169)  |\n",
      "|   zioski (0.5413)    |  official (-0.1179) |\n",
      "| portabello (0.5408)  |   leave (-0.1188)   |\n",
      "|  vonnegut (0.5390)   |  tonight (-0.1189)  |\n",
      "|  attendant (0.5304)  |    bear (-0.1222)   |\n",
      "+----------------------+---------------------+\n",
      "\n",
      "Pre-trained Facebook Model\n",
      "Word: important\n",
      "+-------------------------+-----------------------------+\n",
      "|      Similar Words      |     Least Similar Words     |\n",
      "+-------------------------+-----------------------------+\n",
      "|     vitally (0.8139)    |        Star4 (0.2459)       |\n",
      "|     crucial (0.7996)    |        Dun- (0.2360)        |\n",
      "|    imporant (0.7557)    |        Zony (0.2315)        |\n",
      "|      vital (0.7364)     |        Twil (0.2298)        |\n",
      "|    improtant (0.6904)   | ノースカロライナ州 (0.2226) |\n",
      "|    essential (0.6812)   |       kylskåp (0.2198)      |\n",
      "|    imortant (0.6543)    |        BLue (0.2184)        |\n",
      "|    importnat (0.6521)   |    współdzielony (0.2139)   |\n",
      "|    impotant (0.6465)    |         ea1 (0.2138)        |\n",
      "| important.What (0.6370) |         2Cp (0.2134)        |\n",
      "+-------------------------+-----------------------------+\n"
     ]
    }
   ],
   "source": [
    "def print_similarity_table(word, similar_words, least_similar_words):\n",
    "    table = PrettyTable()\n",
    "    table.field_names = [\"Similar Words\", \"Least Similar Words\"]\n",
    "    \n",
    "    for i in range(len(similar_words)):\n",
    "        similar = f\"{similar_words[i][0]} ({similar_words[i][1]:.4f})\"\n",
    "        least_similar = f\"{least_similar_words[i][0]} ({least_similar_words[i][1]:.4f})\"\n",
    "        table.add_row([similar, least_similar])\n",
    "    \n",
    "    print(f\"Word: {word}\")\n",
    "    print(table)\n",
    "\n",
    "word = \"important\"\n",
    "similar_words_custom, least_similar_words_custom = get_similar_words(custom_model, word)\n",
    "similar_words_facebook, least_similar_words_facebook = get_similar_words(pretrained_facebook, word)\n",
    "\n",
    "print(\"Custom Model\")\n",
    "print_similarity_table(word, similar_words_custom, least_similar_words_custom)\n",
    "print(\"\\nPre-trained Facebook Model\")\n",
    "print_similarity_table(word, similar_words_facebook, least_similar_words_facebook)"
   ]
  },
  {
   "cell_type": "code",
   "execution_count": null,
   "id": "eef07d3d",
   "metadata": {
    "papermill": {
     "duration": 0.249476,
     "end_time": "2024-07-22T14:49:24.509312",
     "exception": false,
     "start_time": "2024-07-22T14:49:24.259836",
     "status": "completed"
    },
    "tags": []
   },
   "outputs": [],
   "source": []
  }
 ],
 "metadata": {
  "kaggle": {
   "accelerator": "gpu",
   "dataSources": [
    {
     "datasetId": 10100,
     "sourceId": 3316532,
     "sourceType": "datasetVersion"
    }
   ],
   "dockerImageVersionId": 30747,
   "isGpuEnabled": true,
   "isInternetEnabled": true,
   "language": "python",
   "sourceType": "notebook"
  },
  "kernelspec": {
   "display_name": "Python 3",
   "language": "python",
   "name": "python3"
  },
  "language_info": {
   "codemirror_mode": {
    "name": "ipython",
    "version": 3
   },
   "file_extension": ".py",
   "mimetype": "text/x-python",
   "name": "python",
   "nbconvert_exporter": "python",
   "pygments_lexer": "ipython3",
   "version": "3.10.13"
  },
  "papermill": {
   "default_parameters": {},
   "duration": 1119.414452,
   "end_time": "2024-07-22T14:49:27.375945",
   "environment_variables": {},
   "exception": null,
   "input_path": "__notebook__.ipynb",
   "output_path": "__notebook__.ipynb",
   "parameters": {},
   "start_time": "2024-07-22T14:30:47.961493",
   "version": "2.5.0"
  }
 },
 "nbformat": 4,
 "nbformat_minor": 5
}
